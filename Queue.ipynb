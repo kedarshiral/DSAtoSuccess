{
  "nbformat": 4,
  "nbformat_minor": 0,
  "metadata": {
    "colab": {
      "provenance": [],
      "authorship_tag": "ABX9TyOtCQol6LfQl1dkROFBrplp",
      "include_colab_link": true
    },
    "kernelspec": {
      "name": "python3",
      "display_name": "Python 3"
    },
    "language_info": {
      "name": "python"
    }
  },
  "cells": [
    {
      "cell_type": "markdown",
      "metadata": {
        "id": "view-in-github",
        "colab_type": "text"
      },
      "source": [
        "<a href=\"https://colab.research.google.com/github/kedarshiral/DSAtoSuccess/blob/main/Queue.ipynb\" target=\"_parent\"><img src=\"https://colab.research.google.com/assets/colab-badge.svg\" alt=\"Open In Colab\"/></a>"
      ]
    },
    {
      "cell_type": "code",
      "execution_count": 30,
      "metadata": {
        "id": "Vge_dFR5sb33"
      },
      "outputs": [],
      "source": [
        "#Implement\n",
        "class Queue:\n",
        "  def __init__(self, size):\n",
        "    self.arr = [None] * size\n",
        "    self.size = size\n",
        "    self.front = 0\n",
        "    self.rear = 0\n",
        "\n",
        "  def enqueue(self, val):\n",
        "    if self.rear == self.size:\n",
        "      print(\"Queue is already full\")\n",
        "    else:\n",
        "      self.arr[self.rear] = val\n",
        "      self.rear += 1\n",
        "\n",
        "  def dequeue(self):\n",
        "    if self.front == self.rear:\n",
        "      print(\"Queue is alredy empty\")\n",
        "    else:\n",
        "      self.arr[self.front] = None\n",
        "      print(\"You have successfully dequeue element from queue\")\n",
        "      self.front += 1\n",
        "\n",
        "  def show(self):\n",
        "    tmp = self.rear-1\n",
        "    while tmp < self.rear and tmp >= self.front:\n",
        "      print(self.arr[tmp-1])\n",
        "      tmp -= 1\n",
        "\n",
        "  # def show(self):\n",
        "  #       if self.front == self.rear:\n",
        "  #           print(\"Queue is empty\")\n",
        "  #       else:\n",
        "  #           print(\"Queue elements:\")\n",
        "  #           for i in range(self.front, self.rear):\n",
        "  #               if self.arr[i] is not None:\n",
        "  #                   print(self.arr[i])"
      ]
    },
    {
      "cell_type": "code",
      "source": [
        "#Run\n",
        "q = Queue(3)"
      ],
      "metadata": {
        "id": "iq9NNvWBsitH"
      },
      "execution_count": 31,
      "outputs": []
    },
    {
      "cell_type": "code",
      "source": [
        "q.enqueue(15)\n",
        "q.enqueue(20)\n",
        "# q.enqueue(25)\n",
        "# q.enqueue(25)"
      ],
      "metadata": {
        "colab": {
          "base_uri": "https://localhost:8080/"
        },
        "id": "ihqSSGgwwxWq",
        "outputId": "325f0dc4-f06f-4867-bd75-7366e8e5757f"
      },
      "execution_count": 41,
      "outputs": [
        {
          "output_type": "stream",
          "name": "stdout",
          "text": [
            "Queue is already full\n",
            "Queue is already full\n"
          ]
        }
      ]
    },
    {
      "cell_type": "code",
      "source": [
        "q.show()"
      ],
      "metadata": {
        "colab": {
          "base_uri": "https://localhost:8080/"
        },
        "id": "iqhxB8ftwz3H",
        "outputId": "edfb68ba-3dbe-440e-f3cc-3d369acfdfd3"
      },
      "execution_count": 35,
      "outputs": [
        {
          "output_type": "stream",
          "name": "stdout",
          "text": [
            "20\n",
            "None\n"
          ]
        }
      ]
    },
    {
      "cell_type": "code",
      "source": [
        "q.dequeue()"
      ],
      "metadata": {
        "colab": {
          "base_uri": "https://localhost:8080/"
        },
        "id": "Ay536SQBxFOz",
        "outputId": "fa53edf5-30e7-42ec-8a53-24d9802c7c6b"
      },
      "execution_count": 40,
      "outputs": [
        {
          "output_type": "stream",
          "name": "stdout",
          "text": [
            "Queue is alredy empty\n"
          ]
        }
      ]
    },
    {
      "cell_type": "code",
      "source": [
        "# recommended\n",
        "class Queue:\n",
        "    def __init__(self, size):\n",
        "        self.arr = [None] * size\n",
        "        self.size = size\n",
        "        self.front = -1\n",
        "        self.rear = -1\n",
        "\n",
        "    def enqueue(self, val):\n",
        "        if (self.rear + 1) % self.size == self.front:\n",
        "            print(\"Queue is already full\")\n",
        "        elif self.front == -1:  # First element\n",
        "            self.front = 0\n",
        "            self.rear = 0\n",
        "            self.arr[self.rear] = val\n",
        "        else:\n",
        "            self.rear = (self.rear + 1) % self.size\n",
        "            self.arr[self.rear] = val\n",
        "\n",
        "    def dequeue(self):\n",
        "        if self.front == -1:\n",
        "            print(\"Queue is already empty\")\n",
        "        elif self.front == self.rear:\n",
        "            dequeued_value = self.arr[self.front]\n",
        "            self.arr[self.front] = None\n",
        "            self.front = -1\n",
        "            self.rear = -1\n",
        "            print(f\"You have successfully dequeued element: {dequeued_value}\")\n",
        "            return dequeued_value\n",
        "        else:\n",
        "            dequeued_value = self.arr[self.front]\n",
        "            self.arr[self.front] = None\n",
        "            self.front = (self.front + 1) % self.size\n",
        "            print(f\"You have successfully dequeued element: {dequeued_value}\")\n",
        "            return dequeued_value\n",
        "\n",
        "    def show(self):\n",
        "        if self.front == -1:\n",
        "            print(\"Queue is empty\")\n",
        "        else:\n",
        "            print(\"Queue elements:\")\n",
        "            current = self.front\n",
        "            while current != self.rear:\n",
        "                if self.arr[current] is not None:\n",
        "                    print(self.arr[current])\n",
        "                current = (current + 1) % self.size\n",
        "            if self.arr[self.rear] is not None:\n",
        "                print(self.arr[self.rear])\n",
        "\n",
        "# Test the implementation\n",
        "# if __name__ == \"__main__\":\n",
        "#     q = Queue(3)\n",
        "#     q.enqueue(1)  # front = 0, rear = 0\n",
        "#     q.enqueue(2)  # rear = 1\n",
        "#     q.enqueue(3)  # rear = 2\n",
        "#     q.show()      # Should show: 1, 2, 3\n",
        "#     q.dequeue()   # front = 1, dequeues 1\n",
        "#     q.show()      # Should show: 2, 3\n",
        "#     q.enqueue(4)  # rear = 0 (wraps around), adds 4\n",
        "#     q.show()      # Should show: 2, 3, 4\n",
        "#     q.dequeue()   # front = 2, dequeues 2\n",
        "#     q.show()      # Should show: 3, 4\n",
        "#     q.dequeue()   # front = 0, dequeues 3\n",
        "#     q.show()      # Should show: 4\n",
        "#     q.dequeue()   # front = -1, dequeues 4\n",
        "#     q.show()      # Should show: Queue is empty\n",
        "#     q.dequeue()   # Should print: Queue is already empty"
      ],
      "metadata": {
        "colab": {
          "base_uri": "https://localhost:8080/"
        },
        "id": "t9IWtnJtxLkI",
        "outputId": "172a68b7-7da6-40b3-ef4e-f205a8c4c411"
      },
      "execution_count": 68,
      "outputs": [
        {
          "output_type": "stream",
          "name": "stdout",
          "text": [
            "Queue is already empty\n"
          ]
        }
      ]
    },
    {
      "cell_type": "code",
      "source": [],
      "metadata": {
        "id": "KM4oy7e7zBkW"
      },
      "execution_count": null,
      "outputs": []
    }
  ]
}