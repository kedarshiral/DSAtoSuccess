{
  "nbformat": 4,
  "nbformat_minor": 0,
  "metadata": {
    "colab": {
      "provenance": [],
      "authorship_tag": "ABX9TyO0znBrC3NcmEE9m53qU5NN",
      "include_colab_link": true
    },
    "kernelspec": {
      "name": "python3",
      "display_name": "Python 3"
    },
    "language_info": {
      "name": "python"
    }
  },
  "cells": [
    {
      "cell_type": "markdown",
      "metadata": {
        "id": "view-in-github",
        "colab_type": "text"
      },
      "source": [
        "<a href=\"https://colab.research.google.com/github/kedarshiral/DSAtoSuccess/blob/main/Doubly_Linked_List.ipynb\" target=\"_parent\"><img src=\"https://colab.research.google.com/assets/colab-badge.svg\" alt=\"Open In Colab\"/></a>"
      ]
    },
    {
      "cell_type": "code",
      "execution_count": 7,
      "metadata": {
        "id": "p6TcJmk1cqJu"
      },
      "outputs": [],
      "source": [
        "class Node:\n",
        "  def __init__(self, data):\n",
        "    self.data = data\n",
        "    self.next = None\n",
        "    self.prev = None\n",
        "\n",
        "class Dll:\n",
        "  def __init__(self):\n",
        "    self.head = None\n",
        "    # self.prev = None\n",
        "    # self.next = None\n",
        "\n",
        "  def f_traverse(self):\n",
        "    tmp = self.head\n",
        "    print(\"Forward traverse !!\")\n",
        "    while tmp.next != None:\n",
        "      print(tmp.data, end=\"-->\")\n",
        "      tmp = tmp.next\n",
        "    print(tmp.data)\n",
        "\n",
        "\n",
        "  def b_traverse(self):\n",
        "    tmp = self.head\n",
        "    print(\"Back traverse !!\")\n",
        "    while tmp.next != None:\n",
        "      tmp = tmp.next\n",
        "\n",
        "    while tmp.prev != None:\n",
        "      print(tmp.data, end = \"<--\")\n",
        "      tmp = tmp.prev\n",
        "    print(tmp.data)\n",
        "\n",
        "\n",
        "  def addFirst(self, data):\n",
        "    if self.head == None:\n",
        "      self.head = data\n",
        "    else:\n",
        "      self.head.prev = data\n",
        "      data.next = self.head\n",
        "      self.head = data\n",
        "\n",
        "  def addLast(self, data):\n",
        "    if self.head == None:\n",
        "      self.head = data\n",
        "    tmp = self.head\n",
        "    while tmp.next != None:\n",
        "      tmp = tmp.next\n",
        "    tmp.next = data\n",
        "    data.prev = tmp\n",
        "\n",
        "  def delete(self, key):\n",
        "    if self.head == None:\n",
        "      return\n",
        "    tmp = self.head\n",
        "    while tmp.next != None and tmp.data != key:\n",
        "      tmp = tmp.next\n",
        "\n",
        "    if tmp == None:\n",
        "      print(\"Key not found\")\n",
        "    elif tmp == self.head:\n",
        "      self.head = self.head.next\n",
        "    elif tmp.next == None:\n",
        "      tmp.prev.next = None\n",
        "    else:\n",
        "      tmp.prev.next = tmp.next\n",
        "      tmp.next.prev = tmp.prev\n",
        "\n",
        "  def search(self, key):\n",
        "    tmp = self.head\n",
        "    while tmp.next != None:\n",
        "      tmp = tmp.next\n",
        "      if tmp.data == key:\n",
        "        return True\n",
        "    return False\n",
        "\n",
        "fN = Node(10)\n",
        "sN = Node(20)\n",
        "tN = Node(30)\n",
        "bfn = Node(5)\n",
        "aln = Node(35)\n",
        "\n",
        "dll = Dll()\n",
        "dll.head = fN\n",
        "dll.head.prev = None\n",
        "dll.head.next = sN\n",
        "sN.next = tN\n",
        "tN.prev = sN\n",
        "sN.prev = fN\n",
        "_bfn = Node(5)"
      ]
    },
    {
      "cell_type": "code",
      "source": [
        "dll.f_traverse()"
      ],
      "metadata": {
        "colab": {
          "base_uri": "https://localhost:8080/"
        },
        "id": "ajKao_xfiCD0",
        "outputId": "16b7948a-d925-4fff-d982-33545d57e467"
      },
      "execution_count": 9,
      "outputs": [
        {
          "output_type": "stream",
          "name": "stdout",
          "text": [
            "Forward traverse !!\n",
            "5-->5-->10-->20-->30\n"
          ]
        }
      ]
    },
    {
      "cell_type": "code",
      "source": [
        "dll.b_traverse()"
      ],
      "metadata": {
        "colab": {
          "base_uri": "https://localhost:8080/"
        },
        "id": "-QgukJYHh6V3",
        "outputId": "ab47f93f-883f-4986-8a55-993ab29480db"
      },
      "execution_count": 3,
      "outputs": [
        {
          "output_type": "stream",
          "name": "stdout",
          "text": [
            "Back traverse !!\n",
            "30<--20<--10\n"
          ]
        }
      ]
    },
    {
      "cell_type": "code",
      "source": [
        "dll.addFirst(_bfn)"
      ],
      "metadata": {
        "id": "tuYwBQ8EiKeB"
      },
      "execution_count": 8,
      "outputs": []
    },
    {
      "cell_type": "code",
      "source": [
        "dll.search(20)"
      ],
      "metadata": {
        "colab": {
          "base_uri": "https://localhost:8080/"
        },
        "id": "HUa51UWsla1K",
        "outputId": "61c0643e-c149-438b-c92c-6af551799bab"
      },
      "execution_count": 15,
      "outputs": [
        {
          "output_type": "execute_result",
          "data": {
            "text/plain": [
              "True"
            ]
          },
          "metadata": {},
          "execution_count": 15
        }
      ]
    },
    {
      "cell_type": "code",
      "source": [
        "dll.delete(20)"
      ],
      "metadata": {
        "id": "Fu1YhUxxokM6"
      },
      "execution_count": 17,
      "outputs": []
    },
    {
      "cell_type": "code",
      "source": [],
      "metadata": {
        "id": "NZOzmRDsozJt"
      },
      "execution_count": null,
      "outputs": []
    }
  ]
}