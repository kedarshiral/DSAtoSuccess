{
  "nbformat": 4,
  "nbformat_minor": 0,
  "metadata": {
    "colab": {
      "provenance": [],
      "authorship_tag": "ABX9TyNehab5Vut+Vqyof9i8t/yu",
      "include_colab_link": true
    },
    "kernelspec": {
      "name": "python3",
      "display_name": "Python 3"
    },
    "language_info": {
      "name": "python"
    }
  },
  "cells": [
    {
      "cell_type": "markdown",
      "metadata": {
        "id": "view-in-github",
        "colab_type": "text"
      },
      "source": [
        "<a href=\"https://colab.research.google.com/github/kedarshiral/DSAtoSuccess/blob/main/Stack.ipynb\" target=\"_parent\"><img src=\"https://colab.research.google.com/assets/colab-badge.svg\" alt=\"Open In Colab\"/></a>"
      ]
    },
    {
      "cell_type": "code",
      "execution_count": 33,
      "metadata": {
        "id": "CQZyKk-VoyP4"
      },
      "outputs": [],
      "source": [
        "# Implement stack\n",
        "\n",
        "class Stack:\n",
        "  def __init__(self, size):\n",
        "    self.arr = [None] * size\n",
        "    self.top = -1\n",
        "    self.size = size\n",
        "\n",
        "  def push(self, val):\n",
        "    if self.top == self.size - 1:\n",
        "      print(f\"Stack is already full - can not push {val}\")\n",
        "    else:\n",
        "      self.top += 1\n",
        "      self.arr[self.top] = val\n",
        "\n",
        "  def pop(self):\n",
        "    if self.top == -1:\n",
        "      print(f\"Stack is already empty - can not delete\")\n",
        "    else:\n",
        "      print(f\"Element {self.arr[self.top]} at top has popped\")\n",
        "      self.top -= 1\n",
        "\n",
        "  def show(self):\n",
        "    tmp = self.top\n",
        "    while tmp > -1:\n",
        "      print(self.arr[tmp])\n",
        "      tmp -= 1"
      ]
    },
    {
      "cell_type": "code",
      "source": [
        "# Run stack\n",
        "\n",
        "s = Stack(4)"
      ],
      "metadata": {
        "id": "ja7r6fd2qT2h"
      },
      "execution_count": 38,
      "outputs": []
    },
    {
      "cell_type": "code",
      "source": [
        "s.push(15)\n",
        "s.push(20)\n",
        "s.push(25)\n",
        "s.push(30)"
      ],
      "metadata": {
        "id": "viMpHyrErOkv"
      },
      "execution_count": 39,
      "outputs": []
    },
    {
      "cell_type": "code",
      "source": [
        "s.show()"
      ],
      "metadata": {
        "id": "F0hyFxQQqkIE"
      },
      "execution_count": 47,
      "outputs": []
    },
    {
      "cell_type": "code",
      "source": [
        "s.pop()"
      ],
      "metadata": {
        "colab": {
          "base_uri": "https://localhost:8080/"
        },
        "id": "DSxLbJWJqvMg",
        "outputId": "ebbb0578-1830-4577-c9b6-655be9e730ef"
      },
      "execution_count": 46,
      "outputs": [
        {
          "output_type": "stream",
          "name": "stdout",
          "text": [
            "Element 15 at top has popped\n"
          ]
        }
      ]
    },
    {
      "cell_type": "code",
      "source": [],
      "metadata": {
        "id": "Xw7Xh6vorLHt"
      },
      "execution_count": null,
      "outputs": []
    }
  ]
}